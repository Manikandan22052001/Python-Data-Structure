{
 "cells": [
  {
   "cell_type": "code",
   "execution_count": 51,
   "id": "91d0239b",
   "metadata": {},
   "outputs": [
    {
     "name": "stdout",
     "output_type": "stream",
     "text": [
      "[[ 1  2  3  4  5  6  7  8  9 10]\n",
      " [11 12 13 14 15 16 17 18 19 20]]\n"
     ]
    }
   ],
   "source": [
    "import numpy as np\n",
    "a=np.array([[[1,2,3,4,5,6,7,8,9,10],[11,12,13,14,15,16,17,18,19,20]],[[1,2,3,4,5,6,7,8,9,10],[11,12,13,14,15,16,17,18,19,20]]])\n",
    "print(a[1,:9])"
   ]
  },
  {
   "cell_type": "code",
   "execution_count": 21,
   "id": "ce24af3d",
   "metadata": {},
   "outputs": [],
   "source": [
    "b=np.array([[11,12,13,14],[15,16,17,18]])"
   ]
  },
  {
   "cell_type": "code",
   "execution_count": 31,
   "id": "4092db52",
   "metadata": {},
   "outputs": [
    {
     "name": "stdout",
     "output_type": "stream",
     "text": [
      "[17 18]\n"
     ]
    }
   ],
   "source": [
    "print(b[1,-2:])"
   ]
  },
  {
   "cell_type": "code",
   "execution_count": 41,
   "id": "fcb9767d",
   "metadata": {},
   "outputs": [
    {
     "name": "stdout",
     "output_type": "stream",
     "text": [
      "[[1 3 5 7 9]]\n"
     ]
    }
   ],
   "source": [
    "print(a[::2,::2])"
   ]
  },
  {
   "cell_type": "code",
   "execution_count": 47,
   "id": "86651b78",
   "metadata": {},
   "outputs": [
    {
     "name": "stdout",
     "output_type": "stream",
     "text": [
      "[12 13 14 15 16]\n"
     ]
    }
   ],
   "source": [
    "print(a[1,1:6])"
   ]
  },
  {
   "cell_type": "code",
   "execution_count": 50,
   "id": "79b740a0",
   "metadata": {},
   "outputs": [
    {
     "name": "stdout",
     "output_type": "stream",
     "text": [
      "[ 5 15]\n"
     ]
    }
   ],
   "source": [
    "print(a[0:, 4])"
   ]
  },
  {
   "cell_type": "code",
   "execution_count": 56,
   "id": "6e6b9ca1",
   "metadata": {},
   "outputs": [
    {
     "name": "stdout",
     "output_type": "stream",
     "text": [
      "[]\n"
     ]
    }
   ],
   "source": [
    "print(b[2:3,2])"
   ]
  },
  {
   "cell_type": "code",
   "execution_count": 58,
   "id": "74ead158",
   "metadata": {},
   "outputs": [
    {
     "name": "stdout",
     "output_type": "stream",
     "text": [
      "[[[ True  True  True  True  True  True  True  True  True  True]\n",
      "  [ True  True  True  True  True  True  True  True  True  True]]\n",
      "\n",
      " [[ True  True  True  True  True  True  True  True  True  True]\n",
      "  [ True  True  True  True  True  True  True  True  True  True]]]\n"
     ]
    }
   ],
   "source": [
    "d=a.astype(bool)\n",
    "print(d)"
   ]
  },
  {
   "cell_type": "code",
   "execution_count": 74,
   "id": "27150545",
   "metadata": {},
   "outputs": [
    {
     "name": "stdout",
     "output_type": "stream",
     "text": [
      "[[[ 1  2  3  4  5]\n",
      "  [ 6  7  8  9 10]\n",
      "  [11 12 13 14 15]\n",
      "  [16 17 18 19 20]]]\n",
      "20\n"
     ]
    }
   ],
   "source": [
    "import numpy as np\n",
    "\n",
    "x=np.array([1,2,3,4,5,6,7,8,9,10,11,12,13,14,15,16,17,18,19,20])\n",
    "\n",
    "y=x.reshape(1,4,5)\n",
    "print(y)\n",
    "y2=len(x)\n",
    "print(y2)"
   ]
  },
  {
   "cell_type": "code",
   "execution_count": 64,
   "id": "3bb3d542",
   "metadata": {},
   "outputs": [
    {
     "name": "stdout",
     "output_type": "stream",
     "text": [
      "[[[ 1  2]\n",
      "  [ 3  4]\n",
      "  [ 5  6]]\n",
      "\n",
      " [[ 7  8]\n",
      "  [ 9 10]\n",
      "  [11 12]]]\n"
     ]
    }
   ],
   "source": [
    "x1=np.array([1,2,3,4,5,6])\n",
    "x2=np.array([7,8,9,10,11,12])\n",
    "y1=x1.reshape(2,3,2)\n",
    "print(y1)"
   ]
  },
  {
   "cell_type": "code",
   "execution_count": 75,
   "id": "5b55b9d4",
   "metadata": {},
   "outputs": [
    {
     "data": {
      "text/plain": [
       "20"
      ]
     },
     "execution_count": 75,
     "metadata": {},
     "output_type": "execute_result"
    }
   ],
   "source": [
    "len(x)"
   ]
  },
  {
   "cell_type": "code",
   "execution_count": 81,
   "id": "86a96005",
   "metadata": {},
   "outputs": [
    {
     "name": "stdout",
     "output_type": "stream",
     "text": [
      "[ 1  2  3  4  5  6  7  8  9 10 11 12]\n"
     ]
    }
   ],
   "source": [
    "x1=np.array([1,2,3,4,5,6])\n",
    "x2=np.array([7,8,9,10,11,12])\n",
    "arr=np.hstack((x1, x2))\n",
    "print(arr)"
   ]
  },
  {
   "cell_type": "code",
   "execution_count": 82,
   "id": "9260b8c3",
   "metadata": {},
   "outputs": [
    {
     "name": "stdout",
     "output_type": "stream",
     "text": [
      "[[ 1  2  3  4  5  6]\n",
      " [ 7  8  9 10 11 12]]\n"
     ]
    }
   ],
   "source": [
    "x1=np.array([1,2,3,4,5,6])\n",
    "x2=np.array([7,8,9,10,11,12])\n",
    "arr=np.vstack((x1, x2))\n",
    "print(arr)"
   ]
  },
  {
   "cell_type": "code",
   "execution_count": 86,
   "id": "09bb821a",
   "metadata": {},
   "outputs": [
    {
     "name": "stdout",
     "output_type": "stream",
     "text": [
      "[[[ 1  7]\n",
      "  [ 2  8]\n",
      "  [ 3  9]\n",
      "  [ 4 10]\n",
      "  [ 5 11]]]\n"
     ]
    }
   ],
   "source": [
    "x1=np.array([1,2,3,4,5])\n",
    "x2=np.array([7,8,9,10,11])\n",
    "arr=np.dstack((x1, x2))\n",
    "print(arr)"
   ]
  },
  {
   "cell_type": "code",
   "execution_count": 88,
   "id": "7f37dc93",
   "metadata": {},
   "outputs": [
    {
     "data": {
      "text/plain": [
       "[array([1, 2, 3]), array([4, 5])]"
      ]
     },
     "execution_count": 88,
     "metadata": {},
     "output_type": "execute_result"
    }
   ],
   "source": [
    "split=np.array_split(x1,2)\n",
    "split"
   ]
  },
  {
   "cell_type": "code",
   "execution_count": null,
   "id": "815519bd",
   "metadata": {},
   "outputs": [],
   "source": [
    "m=int(input(\"Enter your number:\"))\n",
    "for i in range(m):\n",
    "    n=np.array(i)\n",
    "    print(n)"
   ]
  },
  {
   "cell_type": "code",
   "execution_count": null,
   "id": "2c735ecc",
   "metadata": {},
   "outputs": [],
   "source": [
    "m=int(input(\"Enter your number:\"))\n",
    "for i in range(m):\n",
    "    n=np.array([i])\n",
    "    print(n)"
   ]
  },
  {
   "cell_type": "code",
   "execution_count": null,
   "id": "d1842cd3",
   "metadata": {},
   "outputs": [],
   "source": [
    "g=np.array([4,65,24,53])\n",
    "\n",
    "a1 = []\n",
    "for i in g:\n",
    "    if i>=6:\n",
    "        a1.append(True)\n",
    "    else:\n",
    "        a1.append(False)\n",
    "\n",
    "b1 = arr[a1]\n",
    "\n",
    "print(a1)\n",
    "print(b1)"
   ]
  },
  {
   "cell_type": "code",
   "execution_count": null,
   "id": "bc9f5845",
   "metadata": {},
   "outputs": [],
   "source": []
  }
 ],
 "metadata": {
  "kernelspec": {
   "display_name": "Python 3 (ipykernel)",
   "language": "python",
   "name": "python3"
  },
  "language_info": {
   "codemirror_mode": {
    "name": "ipython",
    "version": 3
   },
   "file_extension": ".py",
   "mimetype": "text/x-python",
   "name": "python",
   "nbconvert_exporter": "python",
   "pygments_lexer": "ipython3",
   "version": "3.9.12"
  }
 },
 "nbformat": 4,
 "nbformat_minor": 5
}
